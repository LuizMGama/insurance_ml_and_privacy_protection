{
 "cells": [
  {
   "cell_type": "markdown",
   "metadata": {},
   "source": [
    "# Statement"
   ]
  },
  {
   "cell_type": "markdown",
   "metadata": {},
   "source": [
    "A companhia de seguros Proteja Seu Amanhã quer resolver algumas tarefas com a ajuda de aprendizado de máquina e você precisa avaliar a possibilidade de fazê-lo.\n",
    "\n",
    "- Tarefa 1: Encontrar clientes semelhantes a um determinado cliente. Isso vai ajudar os agentes da empresa com tarefas de marketing.\n",
    "- Tarefa 2: Predizer se um novo cliente provavelmente receberá um pagamento de seguro. Um modelo de predição pode ser melhor do que um modelo dummy?\n",
    "- Tarefa 3: Predizer o número de pagamentos de seguro que um novo cliente provavelmente receberá usando um modelo de regressão linear.\n",
    "- Tarefa 4: Proteger os dados pessoais dos clientes sem estragar o modelo da tarefa anterior. É necessário desenvolver um algoritmo de transformação de dados que tornaria difícil recuperar informações pessoais se os dados caíssem nas mãos erradas. Isso é chamado de mascaramento de dados ou ofuscação de dados. Mas os dados devem ser protegidos de forma que a qualidade dos modelos de aprendizado de máquina não piore. Você não precisa escolher o melhor modelo, só prove que o algoritmo funciona corretamente."
   ]
  },
  {
   "cell_type": "markdown",
   "metadata": {},
   "source": [
    "# Pré-processamento de dados & Exploração\n",
    "\n",
    "## Inicialização"
   ]
  },
  {
   "cell_type": "code",
   "execution_count": 4,
   "metadata": {},
   "outputs": [
    {
     "name": "stdout",
     "output_type": "stream",
     "text": [
      "Requirement already satisfied: scikit-learn in /opt/conda/envs/python3/lib/python3.9/site-packages (0.24.1)\n",
      "Collecting scikit-learn\n",
      "  Downloading scikit_learn-1.6.1-cp39-cp39-manylinux_2_17_x86_64.manylinux2014_x86_64.whl.metadata (18 kB)\n",
      "Requirement already satisfied: numpy>=1.19.5 in /opt/conda/envs/python3/lib/python3.9/site-packages (from scikit-learn) (1.21.2)\n",
      "Requirement already satisfied: scipy>=1.6.0 in /opt/conda/envs/python3/lib/python3.9/site-packages (from scikit-learn) (1.10.1)\n",
      "Requirement already satisfied: joblib>=1.2.0 in /opt/conda/envs/python3/lib/python3.9/site-packages (from scikit-learn) (1.4.2)\n",
      "Requirement already satisfied: threadpoolctl>=3.1.0 in /opt/conda/envs/python3/lib/python3.9/site-packages (from scikit-learn) (3.5.0)\n",
      "Downloading scikit_learn-1.6.1-cp39-cp39-manylinux_2_17_x86_64.manylinux2014_x86_64.whl (13.5 MB)\n",
      "\u001b[2K   \u001b[90m━━━━━━━━━━━━━━━━━━━━━━━━━━━━━━━━━━━━━━━━\u001b[0m \u001b[32m13.5/13.5 MB\u001b[0m \u001b[31m56.8 MB/s\u001b[0m eta \u001b[36m0:00:00\u001b[0m00:01\u001b[0m00:01\u001b[0m\n",
      "\u001b[?25hInstalling collected packages: scikit-learn\n",
      "Successfully installed scikit-learn-1.6.1\n",
      "Note: you may need to restart the kernel to use updated packages.\n"
     ]
    }
   ],
   "source": [
    "pip install scikit-learn --upgrade --user"
   ]
  },
  {
   "cell_type": "markdown",
   "metadata": {},
   "source": [
    "O upgrade da scikit-learn não estava funcionando por falta de permissões. Adicionei o comando --user para que desse certo. Ai sim, o upgrade funcionou."
   ]
  },
  {
   "cell_type": "code",
   "execution_count": 1,
   "metadata": {},
   "outputs": [],
   "source": [
    "import numpy as np\n",
    "import pandas as pd\n",
    "\n",
    "import seaborn as sns\n",
    "import matplotlib.pyplot as plt\n",
    "\n",
    "import sklearn.linear_model\n",
    "import sklearn.metrics\n",
    "import sklearn.neighbors\n",
    "import sklearn.preprocessing\n",
    "\n",
    "from sklearn.linear_model import LinearRegression\n",
    "from sklearn.metrics import mean_squared_error, r2_score\n",
    "from sklearn.model_selection import train_test_split, cross_val_score\n",
    "from sklearn.neighbors import NearestNeighbors\n",
    "from sklearn.neighbors import KNeighborsClassifier\n",
    "from sklearn.metrics import f1_score\n",
    "\n",
    "from IPython.display import display"
   ]
  },
  {
   "cell_type": "markdown",
   "metadata": {},
   "source": [
    "## Carregar Dados"
   ]
  },
  {
   "cell_type": "markdown",
   "metadata": {},
   "source": [
    "Carregue os dados e faça uma verificação básica de que estão livres de problemas óbvios."
   ]
  },
  {
   "cell_type": "code",
   "execution_count": 2,
   "metadata": {},
   "outputs": [],
   "source": [
    "df = pd.read_csv('/datasets/insurance_us.csv')"
   ]
  },
  {
   "cell_type": "markdown",
   "metadata": {},
   "source": [
    "Renomeamos as colunas para tornar o código mais consistente com seu estilo."
   ]
  },
  {
   "cell_type": "code",
   "execution_count": 3,
   "metadata": {},
   "outputs": [],
   "source": [
    "df = df.rename(columns={'Gender': 'gender', 'Age': 'age', 'Salary': 'income', 'Family members': 'family_members', 'Insurance benefits': 'insurance_benefits'})"
   ]
  },
  {
   "cell_type": "code",
   "execution_count": 4,
   "metadata": {},
   "outputs": [
    {
     "data": {
      "text/html": [
       "<div>\n",
       "<style scoped>\n",
       "    .dataframe tbody tr th:only-of-type {\n",
       "        vertical-align: middle;\n",
       "    }\n",
       "\n",
       "    .dataframe tbody tr th {\n",
       "        vertical-align: top;\n",
       "    }\n",
       "\n",
       "    .dataframe thead th {\n",
       "        text-align: right;\n",
       "    }\n",
       "</style>\n",
       "<table border=\"1\" class=\"dataframe\">\n",
       "  <thead>\n",
       "    <tr style=\"text-align: right;\">\n",
       "      <th></th>\n",
       "      <th>gender</th>\n",
       "      <th>age</th>\n",
       "      <th>income</th>\n",
       "      <th>family_members</th>\n",
       "      <th>insurance_benefits</th>\n",
       "    </tr>\n",
       "  </thead>\n",
       "  <tbody>\n",
       "    <tr>\n",
       "      <th>4797</th>\n",
       "      <td>1</td>\n",
       "      <td>29.0</td>\n",
       "      <td>36600.0</td>\n",
       "      <td>2</td>\n",
       "      <td>0</td>\n",
       "    </tr>\n",
       "    <tr>\n",
       "      <th>2360</th>\n",
       "      <td>1</td>\n",
       "      <td>40.0</td>\n",
       "      <td>43800.0</td>\n",
       "      <td>0</td>\n",
       "      <td>0</td>\n",
       "    </tr>\n",
       "    <tr>\n",
       "      <th>1719</th>\n",
       "      <td>0</td>\n",
       "      <td>38.0</td>\n",
       "      <td>37000.0</td>\n",
       "      <td>2</td>\n",
       "      <td>0</td>\n",
       "    </tr>\n",
       "    <tr>\n",
       "      <th>4116</th>\n",
       "      <td>0</td>\n",
       "      <td>35.0</td>\n",
       "      <td>41600.0</td>\n",
       "      <td>4</td>\n",
       "      <td>0</td>\n",
       "    </tr>\n",
       "    <tr>\n",
       "      <th>1874</th>\n",
       "      <td>1</td>\n",
       "      <td>41.0</td>\n",
       "      <td>40900.0</td>\n",
       "      <td>0</td>\n",
       "      <td>0</td>\n",
       "    </tr>\n",
       "    <tr>\n",
       "      <th>984</th>\n",
       "      <td>1</td>\n",
       "      <td>28.0</td>\n",
       "      <td>62400.0</td>\n",
       "      <td>1</td>\n",
       "      <td>0</td>\n",
       "    </tr>\n",
       "    <tr>\n",
       "      <th>785</th>\n",
       "      <td>0</td>\n",
       "      <td>20.0</td>\n",
       "      <td>35800.0</td>\n",
       "      <td>0</td>\n",
       "      <td>0</td>\n",
       "    </tr>\n",
       "    <tr>\n",
       "      <th>3520</th>\n",
       "      <td>1</td>\n",
       "      <td>22.0</td>\n",
       "      <td>60000.0</td>\n",
       "      <td>0</td>\n",
       "      <td>0</td>\n",
       "    </tr>\n",
       "    <tr>\n",
       "      <th>17</th>\n",
       "      <td>1</td>\n",
       "      <td>41.0</td>\n",
       "      <td>33200.0</td>\n",
       "      <td>2</td>\n",
       "      <td>0</td>\n",
       "    </tr>\n",
       "    <tr>\n",
       "      <th>8</th>\n",
       "      <td>1</td>\n",
       "      <td>36.0</td>\n",
       "      <td>49700.0</td>\n",
       "      <td>1</td>\n",
       "      <td>0</td>\n",
       "    </tr>\n",
       "  </tbody>\n",
       "</table>\n",
       "</div>"
      ],
      "text/plain": [
       "      gender   age   income  family_members  insurance_benefits\n",
       "4797       1  29.0  36600.0               2                   0\n",
       "2360       1  40.0  43800.0               0                   0\n",
       "1719       0  38.0  37000.0               2                   0\n",
       "4116       0  35.0  41600.0               4                   0\n",
       "1874       1  41.0  40900.0               0                   0\n",
       "984        1  28.0  62400.0               1                   0\n",
       "785        0  20.0  35800.0               0                   0\n",
       "3520       1  22.0  60000.0               0                   0\n",
       "17         1  41.0  33200.0               2                   0\n",
       "8          1  36.0  49700.0               1                   0"
      ]
     },
     "execution_count": 4,
     "metadata": {},
     "output_type": "execute_result"
    }
   ],
   "source": [
    "df.sample(10)"
   ]
  },
  {
   "cell_type": "code",
   "execution_count": 5,
   "metadata": {},
   "outputs": [
    {
     "name": "stdout",
     "output_type": "stream",
     "text": [
      "<class 'pandas.core.frame.DataFrame'>\n",
      "RangeIndex: 5000 entries, 0 to 4999\n",
      "Data columns (total 5 columns):\n",
      " #   Column              Non-Null Count  Dtype  \n",
      "---  ------              --------------  -----  \n",
      " 0   gender              5000 non-null   int64  \n",
      " 1   age                 5000 non-null   float64\n",
      " 2   income              5000 non-null   float64\n",
      " 3   family_members      5000 non-null   int64  \n",
      " 4   insurance_benefits  5000 non-null   int64  \n",
      "dtypes: float64(2), int64(3)\n",
      "memory usage: 195.4 KB\n"
     ]
    }
   ],
   "source": [
    "df.info()"
   ]
  },
  {
   "cell_type": "code",
   "execution_count": 6,
   "metadata": {},
   "outputs": [
    {
     "name": "stdout",
     "output_type": "stream",
     "text": [
      "0       41\n",
      "1       46\n",
      "2       29\n",
      "3       21\n",
      "4       28\n",
      "        ..\n",
      "4995    28\n",
      "4996    34\n",
      "4997    20\n",
      "4998    22\n",
      "4999    28\n",
      "Name: age, Length: 5000, dtype: int64\n"
     ]
    }
   ],
   "source": [
    "# podemos querer corrigir o tipo de idade (de float para int), embora isso não seja crítico\n",
    "\n",
    "# escreva sua conversão aqui se você escolher:\n",
    "df['age'] = df['age'].astype(int)\n",
    "print(df['age'])"
   ]
  },
  {
   "cell_type": "code",
   "execution_count": 7,
   "metadata": {},
   "outputs": [
    {
     "name": "stdout",
     "output_type": "stream",
     "text": [
      "<class 'pandas.core.frame.DataFrame'>\n",
      "RangeIndex: 5000 entries, 0 to 4999\n",
      "Data columns (total 5 columns):\n",
      " #   Column              Non-Null Count  Dtype  \n",
      "---  ------              --------------  -----  \n",
      " 0   gender              5000 non-null   int64  \n",
      " 1   age                 5000 non-null   int64  \n",
      " 2   income              5000 non-null   float64\n",
      " 3   family_members      5000 non-null   int64  \n",
      " 4   insurance_benefits  5000 non-null   int64  \n",
      "dtypes: float64(1), int64(4)\n",
      "memory usage: 195.4 KB\n"
     ]
    }
   ],
   "source": [
    "# verifique se a conversão foi bem-sucedida\n",
    "df.info()"
   ]
  },
  {
   "cell_type": "code",
   "execution_count": 8,
   "metadata": {},
   "outputs": [],
   "source": [
    "# agora dê uma olhada nas estatísticas descritivas dos dados.\n",
    "# Parece que está tudo bem?"
   ]
  },
  {
   "cell_type": "code",
   "execution_count": 9,
   "metadata": {},
   "outputs": [
    {
     "name": "stdout",
     "output_type": "stream",
     "text": [
      "            gender          age        income  family_members  \\\n",
      "count  5000.000000  5000.000000   5000.000000     5000.000000   \n",
      "mean      0.499000    30.952800  39916.360000        1.194200   \n",
      "std       0.500049     8.440807   9900.083569        1.091387   \n",
      "min       0.000000    18.000000   5300.000000        0.000000   \n",
      "25%       0.000000    24.000000  33300.000000        0.000000   \n",
      "50%       0.000000    30.000000  40200.000000        1.000000   \n",
      "75%       1.000000    37.000000  46600.000000        2.000000   \n",
      "max       1.000000    65.000000  79000.000000        6.000000   \n",
      "\n",
      "       insurance_benefits  \n",
      "count         5000.000000  \n",
      "mean             0.148000  \n",
      "std              0.463183  \n",
      "min              0.000000  \n",
      "25%              0.000000  \n",
      "50%              0.000000  \n",
      "75%              0.000000  \n",
      "max              5.000000  \n"
     ]
    }
   ],
   "source": [
    "print(df.describe())"
   ]
  },
  {
   "cell_type": "markdown",
   "metadata": {},
   "source": [
    "Pelos valores indicados no método describe, está tudo bem. Nenhuma coluna apresenta valores médios, máximos ou mínimos fora do esperado. Os desvios padrões e quartis também parecem fazer sentido com o que cada coluna busca representar. Nossa única questão é um desbalanceamento de dados na coluna 'insurance_benefits'. Esse é um desbalanceamentoi normal, visto que são poucos os clientes que getralmente recebem retorno de seguro, mas essa característica pode atrapalhar alguns modelos. Não faremos nada por ora, mas isso é algo para mantermos em mente."
   ]
  },
  {
   "cell_type": "markdown",
   "metadata": {},
   "source": [
    "## AED"
   ]
  },
  {
   "cell_type": "markdown",
   "metadata": {},
   "source": [
    "Vamos verificar rapidamente se existem determinados grupos de clientes observando o gráfico de pares."
   ]
  },
  {
   "cell_type": "code",
   "execution_count": 10,
   "metadata": {},
   "outputs": [
    {
     "data": {
      "image/png": "[encoded data removed]",
      "text/plain": [
       "<Figure size 1200x1200 with 30 Axes>"
      ]
     },
     "metadata": {},
     "output_type": "display_data"
    }
   ],
   "source": [
    "g = sns.pairplot(df, kind='hist')\n",
    "g.fig.set_size_inches(12, 12)"
   ]
  },
  {
   "cell_type": "markdown",
   "metadata": {},
   "source": [
    "Ok, é um pouco difícil identificar grupos óbvios (clusters), pois é difícil combinar várias variáveis simultaneamente (para analisar distribuições multivariadas). É aí que Álgebra Linear e Aprendizado de Máquina podem ser bastante úteis."
   ]
  },
  {
   "cell_type": "markdown",
   "metadata": {},
   "source": [
    "# Tarefa 1. Clientes Similares"
   ]
  },
  {
   "cell_type": "markdown",
   "metadata": {},
   "source": [
    "Na linguagem de AM, é necessário desenvolver um procedimento que retorne k vizinhos mais próximos (objetos) para um determinado objeto com base na distância entre os objetos.\n",
    "Você pode querer rever as seguintes lições (capítulo -> lição)- Distância Entre Vetores -> Distância Euclidiana\n",
    "- Distância Entre Vetores -> Distância de Manhattan\n",
    "\n",
    "Para resolver a tarefa, podemos tentar diferentes métricas de distância."
   ]
  },
  {
   "cell_type": "markdown",
   "metadata": {},
   "source": [
    "Escreva uma função que retorne k vizinhos mais próximos para um n-ésimo objeto com base em uma métrica de distância especificada. O número de pagamentos de seguro recebidos não deve ser levado em consideração para esta tarefa. \n",
    "\n",
    "Você pode usar uma implementação pronta do algoritmo kNN do scikit-learn (verifique [o link](https://scikit-learn.org/stable/modules/generated/sklearn.neighbors.NearestNeighbors.html#sklearn.neighbors.NearestNeighbors)) ou usar a sua própria.\n",
    "Teste-o para quatro combinações de dois casos\n",
    "- Escalabilidade\n",
    "  - os dados não são escalados\n",
    "  - os dados escalados com o escalonador [MaxAbsScaler](https://scikit-learn.org/stable/modules/generated/sklearn.preprocessing.MaxAbsScaler.html) \n",
    "- Métricas de distância\n",
    "  - Euclidiana\n",
    "  - Manhattan\n",
    "\n",
    "Responda às perguntas:\n",
    "- Os dados não escalados afetam o algoritmo kNN? Se sim, como isso acontece?\n",
    "-Quão semelhantes são os resultados usando a métrica de distância de Manhattan (independentemente da escalabilidade)?"
   ]
  },
  {
   "cell_type": "code",
   "execution_count": 11,
   "metadata": {},
   "outputs": [],
   "source": [
    "feature_names = ['gender', 'age', 'income', 'family_members']"
   ]
  },
  {
   "cell_type": "code",
   "execution_count": 12,
   "metadata": {},
   "outputs": [],
   "source": [
    "def get_knn(df, n, k, metric):\n",
    "    \n",
    "    \"\"\"\n",
    "    Retorna os vizinhos mais próximos de k\n",
    "\n",
    "    :param df: DataFrame pandas usado para encontrar objetos semelhantes dentro de    :param n: número do objeto pelo qual os vizinhos mais próximos são procurados\n",
    "    :param k: o número dos vizinhos mais próximos a serem retornados\n",
    "    :param metric: nome da métrica de distância    \"\"\"\n",
    "\n",
    "    nbrs = NearestNeighbors(n_neighbors=k, metric=metric)\n",
    "    nbrs.fit(df[feature_names])\n",
    "    nbrs_distances, nbrs_indices = nbrs.kneighbors([df.iloc[n][feature_names]], k, return_distance=True)\n",
    "    \n",
    "    df_res = pd.concat([\n",
    "        df.iloc[nbrs_indices[0]], \n",
    "        pd.DataFrame(nbrs_distances.T, index=nbrs_indices[0], columns=['distance'])\n",
    "        ], axis=1)\n",
    "    \n",
    "    return df_res"
   ]
  },
  {
   "cell_type": "markdown",
   "metadata": {},
   "source": [
    "Escalando os dados"
   ]
  },
  {
   "cell_type": "code",
   "execution_count": 13,
   "metadata": {},
   "outputs": [],
   "source": [
    "feature_names = ['gender', 'age', 'income', 'family_members']\n",
    "\n",
    "transformer_mas = sklearn.preprocessing.MaxAbsScaler().fit(df[feature_names].to_numpy())\n",
    "\n",
    "df_scaled = df.copy()\n",
    "df_scaled.loc[:, feature_names] = transformer_mas.transform(df[feature_names].to_numpy())"
   ]
  },
  {
   "cell_type": "code",
   "execution_count": 14,
   "metadata": {},
   "outputs": [
    {
     "data": {
      "text/html": [
       "<div>\n",
       "<style scoped>\n",
       "    .dataframe tbody tr th:only-of-type {\n",
       "        vertical-align: middle;\n",
       "    }\n",
       "\n",
       "    .dataframe tbody tr th {\n",
       "        vertical-align: top;\n",
       "    }\n",
       "\n",
       "    .dataframe thead th {\n",
       "        text-align: right;\n",
       "    }\n",
       "</style>\n",
       "<table border=\"1\" class=\"dataframe\">\n",
       "  <thead>\n",
       "    <tr style=\"text-align: right;\">\n",
       "      <th></th>\n",
       "      <th>gender</th>\n",
       "      <th>age</th>\n",
       "      <th>income</th>\n",
       "      <th>family_members</th>\n",
       "      <th>insurance_benefits</th>\n",
       "    </tr>\n",
       "  </thead>\n",
       "  <tbody>\n",
       "    <tr>\n",
       "      <th>4617</th>\n",
       "      <td>1.0</td>\n",
       "      <td>0.292308</td>\n",
       "      <td>0.574684</td>\n",
       "      <td>0.000000</td>\n",
       "      <td>0</td>\n",
       "    </tr>\n",
       "    <tr>\n",
       "      <th>3419</th>\n",
       "      <td>1.0</td>\n",
       "      <td>0.292308</td>\n",
       "      <td>0.526582</td>\n",
       "      <td>0.166667</td>\n",
       "      <td>0</td>\n",
       "    </tr>\n",
       "    <tr>\n",
       "      <th>3837</th>\n",
       "      <td>1.0</td>\n",
       "      <td>0.538462</td>\n",
       "      <td>0.526582</td>\n",
       "      <td>0.166667</td>\n",
       "      <td>0</td>\n",
       "    </tr>\n",
       "    <tr>\n",
       "      <th>1946</th>\n",
       "      <td>0.0</td>\n",
       "      <td>0.384615</td>\n",
       "      <td>0.682278</td>\n",
       "      <td>0.333333</td>\n",
       "      <td>0</td>\n",
       "    </tr>\n",
       "    <tr>\n",
       "      <th>1530</th>\n",
       "      <td>0.0</td>\n",
       "      <td>0.492308</td>\n",
       "      <td>0.570886</td>\n",
       "      <td>0.166667</td>\n",
       "      <td>0</td>\n",
       "    </tr>\n",
       "  </tbody>\n",
       "</table>\n",
       "</div>"
      ],
      "text/plain": [
       "      gender       age    income  family_members  insurance_benefits\n",
       "4617     1.0  0.292308  0.574684        0.000000                   0\n",
       "3419     1.0  0.292308  0.526582        0.166667                   0\n",
       "3837     1.0  0.538462  0.526582        0.166667                   0\n",
       "1946     0.0  0.384615  0.682278        0.333333                   0\n",
       "1530     0.0  0.492308  0.570886        0.166667                   0"
      ]
     },
     "execution_count": 14,
     "metadata": {},
     "output_type": "execute_result"
    }
   ],
   "source": [
    "df_scaled.sample(5)"
   ]
  },
  {
   "cell_type": "markdown",
   "metadata": {},
   "source": [
    "Agora, vamos obter registros semelhantes para um determinado registro para cada combinação"
   ]
  },
  {
   "cell_type": "code",
   "execution_count": 15,
   "metadata": {},
   "outputs": [
    {
     "name": "stdout",
     "output_type": "stream",
     "text": [
      "Distância Euclidiana com dados escalados:\n",
      "      gender       age    income  family_members  insurance_benefits  distance\n",
      "0        1.0  0.630769  0.627848        0.166667                   0  0.000000\n",
      "2689     1.0  0.630769  0.634177        0.166667                   0  0.006329\n",
      "133      1.0  0.615385  0.636709        0.166667                   0  0.017754\n",
      "4869     1.0  0.646154  0.637975        0.166667                   1  0.018418\n",
      "3275     1.0  0.646154  0.651899        0.166667                   1  0.028550\n"
     ]
    }
   ],
   "source": [
    "print(\"Distância Euclidiana com dados escalados:\")\n",
    "print(get_knn(df_scaled, n=0, k=5, metric='euclidean'))"
   ]
  },
  {
   "cell_type": "code",
   "execution_count": 16,
   "metadata": {},
   "outputs": [
    {
     "name": "stdout",
     "output_type": "stream",
     "text": [
      "Distância Euclidiana com dados não escalados:\n",
      "      gender  age   income  family_members  insurance_benefits  distance\n",
      "0          1   41  49600.0               1                   0  0.000000\n",
      "2022       1   41  49600.0               0                   0  1.000000\n",
      "1225       0   42  49600.0               0                   1  1.732051\n",
      "4031       1   44  49600.0               2                   1  3.162278\n",
      "3424       0   38  49600.0               0                   0  3.316625\n"
     ]
    }
   ],
   "source": [
    "print(\"Distância Euclidiana com dados não escalados:\")\n",
    "print(get_knn(df, n=0, k=5, metric='euclidean'))"
   ]
  },
  {
   "cell_type": "code",
   "execution_count": 17,
   "metadata": {},
   "outputs": [
    {
     "name": "stdout",
     "output_type": "stream",
     "text": [
      "Distância Manhattan com dados escalados:\n",
      "      gender       age    income  family_members  insurance_benefits  distance\n",
      "0        1.0  0.630769  0.627848        0.166667                   0  0.000000\n",
      "2689     1.0  0.630769  0.634177        0.166667                   0  0.006329\n",
      "133      1.0  0.615385  0.636709        0.166667                   0  0.024245\n",
      "4869     1.0  0.646154  0.637975        0.166667                   1  0.025511\n",
      "3365     1.0  0.630769  0.596203        0.166667                   0  0.031646\n"
     ]
    }
   ],
   "source": [
    "print(\"Distância Manhattan com dados escalados:\")\n",
    "print(get_knn(df_scaled, n=0, k=5, metric='manhattan'))"
   ]
  },
  {
   "cell_type": "code",
   "execution_count": 18,
   "metadata": {},
   "outputs": [
    {
     "name": "stdout",
     "output_type": "stream",
     "text": [
      "Distância Manhattan com dados não escalados:\n",
      "      gender  age   income  family_members  insurance_benefits  distance\n",
      "0          1   41  49600.0               1                   0       0.0\n",
      "2022       1   41  49600.0               0                   0       1.0\n",
      "1225       0   42  49600.0               0                   1       3.0\n",
      "4031       1   44  49600.0               2                   1       4.0\n",
      "3424       0   38  49600.0               0                   0       5.0\n"
     ]
    }
   ],
   "source": [
    "print(\"Distância Manhattan com dados não escalados:\")\n",
    "print(get_knn(df, n=0, k=5, metric='manhattan'))"
   ]
  },
  {
   "cell_type": "markdown",
   "metadata": {},
   "source": [
    "Respostas para as perguntas"
   ]
  },
  {
   "cell_type": "markdown",
   "metadata": {},
   "source": [
    "**Os dados não escalados afetam o algoritmo kNN? Se sim, como isso acontece?** \n",
    "\n",
    "Observamos algumas coisas interessantes ao rodarmos esses testes. O escalamento de dados afetam o algoritmo, principalmente quando testamos a distãncia Euclidiana, que apresentou resultados muito diferentes. O escalamento dos dados é fundamental para essa distância, caso conttrário, ela dará um peso muito maior para income, distorcendo os resultados. Já para a distãncia Manhattan, a escalalabilidade também tem efeito, porém bem menor. Os resultados até mudam um pouco, mas se matêm bem mais coerentes. "
   ]
  },
  {
   "cell_type": "markdown",
   "metadata": {},
   "source": [
    "**Quão semelhantes são os resultados usando a métrica de distância de Manhattan (independentemente da escalabilidade)?** \n",
    "\n",
    "Aqui, percebemos que os resultados são bem mais semelhantes. Existe alguma alteração, mas os valores não tem mudanças muito abruptas. Isso indica, como esperado, que a distância Manhattan é mais robusta ao lidar com o impacto do escalonamento. "
   ]
  },
  {
   "cell_type": "markdown",
   "metadata": {},
   "source": [
    "# Tarefa 2. É provável que o cliente receba um pagamento do seguro?"
   ]
  },
  {
   "cell_type": "markdown",
   "metadata": {},
   "source": [
    "Em termos de aprendizado de máquina, podemos olhar para isso como uma tarefa de classificação binária."
   ]
  },
  {
   "cell_type": "markdown",
   "metadata": {},
   "source": [
    "Com os pagamentos de seguro sendo mais do que zero como objetivo, avalie se a abordagem da classificação kNN pode ser melhor do que um modelo dummy.\n",
    "\n",
    "Instruções:\n",
    "- Construa um classificador baseado em kNN e meça sua qualidade com a métrica F1 para k=1..10 tanto para os dados originais quanto para os escalados. Seria interessante ver como k pode influenciar a métrica de avaliação e se a escalabilidade dos dados faz alguma diferença. Você pode usar uma implementação pronta do algoritmo de classificação kNN do scikit-learn (verifique [o link](https://scikit-learn.org/stable/modules/generated/sklearn.neighbors.KNeighborsClassifier.html)) ou usar a sua própria.\n",
    "- Construa o modelo dummy, que é aleatório para este caso. Deve retornar com alguma probabilidade o valor \"1\". LVamos testar o modelo com quatro valores de probabilidade: 0, a probabilidade de fazer qualquer pagamento de seguro, 0,5, 1.\n",
    "\n",
    "A probabilidade de fazer qualquer pagamento de seguro pode ser definida como\n",
    "\n",
    "$$\n",
    "P\\{\\text{pagamento de seguro recebido}= número de clientes que receberam qualquer pagamento de seguro}}{\\text{número total de clientes}}.\n",
    "$$\n",
    "\n",
    "Divida os dados inteiros na proporção 70:30 para as partes de treinamento/teste."
   ]
  },
  {
   "cell_type": "code",
   "execution_count": 19,
   "metadata": {},
   "outputs": [],
   "source": [
    "# calcule a meta\n",
    "df['insurance_benefits_received'] = (df['insurance_benefits'] > 0).astype(int)"
   ]
  },
  {
   "cell_type": "code",
   "execution_count": 20,
   "metadata": {},
   "outputs": [
    {
     "name": "stdout",
     "output_type": "stream",
     "text": [
      "0    0.8872\n",
      "1    0.1128\n",
      "Name: insurance_benefits_received, dtype: float64\n"
     ]
    }
   ],
   "source": [
    "# verifique o desequilíbrio de classe com value_counts()\n",
    "\n",
    "print(df['insurance_benefits_received'].value_counts(normalize=True))"
   ]
  },
  {
   "cell_type": "code",
   "execution_count": 22,
   "metadata": {},
   "outputs": [],
   "source": [
    "def eval_classifier(y_true, y_pred):\n",
    "    \n",
    "    f1_score = sklearn.metrics.f1_score(y_true, y_pred)\n",
    "    print(f'F1: {f1_score:.2f}')\n",
    "    \n",
    "# se você tiver um problema com a linha a seguir, reinicie o kernel e execute o caderno novamente\n",
    "    cm = sklearn.metrics.confusion_matrix(y_true, y_pred, normalize='all')\n",
    "    print('Matriz de Confusão')\n",
    "    print(cm)"
   ]
  },
  {
   "cell_type": "code",
   "execution_count": 23,
   "metadata": {},
   "outputs": [],
   "source": [
    "# gerando saída de um modelo aleatório\n",
    "\n",
    "def rnd_model_predict(P, size, seed=42):\n",
    "\n",
    "    rng = np.random.default_rng(seed=seed)\n",
    "    return rng.binomial(n=1, p=P, size=size)"
   ]
  },
  {
   "cell_type": "code",
   "execution_count": 24,
   "metadata": {},
   "outputs": [],
   "source": [
    "#Aqui, vamos fazer a divisão dos dados antes de seguirmos com o teste e avaliação do nosso dummy\n",
    "\n",
    "X_train, X_test, y_train, y_test = train_test_split(\n",
    "    df[feature_names], \n",
    "    df['insurance_benefits_received'], \n",
    "    test_size=0.3, \n",
    "    random_state=12345\n",
    ")"
   ]
  },
  {
   "cell_type": "code",
   "execution_count": 27,
   "metadata": {},
   "outputs": [
    {
     "name": "stdout",
     "output_type": "stream",
     "text": [
      "A probabilidade: 0.00\n",
      "F1: 0.00\n",
      "Matriz de Confusão\n",
      "[[0.89133333 0.        ]\n",
      " [0.10866667 0.        ]]\n",
      "\n",
      "A probabilidade: 0.11\n",
      "F1: 0.11\n",
      "Matriz de Confusão\n",
      "[[0.78666667 0.10466667]\n",
      " [0.096      0.01266667]]\n",
      "\n",
      "A probabilidade: 0.50\n",
      "F1: 0.16\n",
      "Matriz de Confusão\n",
      "[[0.44533333 0.446     ]\n",
      " [0.06       0.04866667]]\n",
      "\n",
      "A probabilidade: 1.00\n",
      "F1: 0.20\n",
      "Matriz de Confusão\n",
      "[[0.         0.89133333]\n",
      " [0.         0.10866667]]\n",
      "\n"
     ]
    }
   ],
   "source": [
    "for P in [0, df['insurance_benefits_received'].sum() / len(df), 0.5, 1]:\n",
    "\n",
    "    print(f'A probabilidade: {P:.2f}')\n",
    "    y_pred_rnd = rnd_model_predict(P, size=len(y_test))\n",
    "        \n",
    "    eval_classifier(y_test, y_pred_rnd)\n",
    "    \n",
    "    print()\n",
    "\n",
    "\n",
    "#Aqui, fizemos uma pequena alteração no pré-código, porque, no meu entendimento, precisávamos dividir os dados antes de testar\n",
    "#o dummy, mas o pré-código não nos forneceu células e nem instruções para isso. Depois de fazer essa divisão, alterei o p´re\n",
    "#código para garantir que não houvesse erro ou vazamento de dados"
   ]
  },
  {
   "cell_type": "markdown",
   "metadata": {},
   "source": [
    "# Treinando o KNN"
   ]
  },
  {
   "cell_type": "code",
   "execution_count": 29,
   "metadata": {},
   "outputs": [],
   "source": [
    "# Escalonando os dados com MaxAbsScaler\n",
    "scaler = sklearn.preprocessing.MaxAbsScaler()\n",
    "\n",
    "# Ajuste nos dados de treino\n",
    "X_train_scaled = scaler.fit_transform(X_train)\n",
    "\n",
    "# Transformação nos dados de teste\n",
    "X_test_scaled = scaler.transform(X_test)"
   ]
  },
  {
   "cell_type": "code",
   "execution_count": 30,
   "metadata": {},
   "outputs": [
    {
     "name": "stdout",
     "output_type": "stream",
     "text": [
      "\n",
      "Treinando kNN com k=1...\n",
      "F1-score para k=1 (não escalado): 0.61\n",
      "F1-score para k=1 (escalado): 0.97\n",
      "\n",
      "Treinando kNN com k=2...\n",
      "F1-score para k=2 (não escalado): 0.41\n",
      "F1-score para k=2 (escalado): 0.93\n",
      "\n",
      "Treinando kNN com k=3...\n",
      "F1-score para k=3 (não escalado): 0.41\n",
      "F1-score para k=3 (escalado): 0.95\n",
      "\n",
      "Treinando kNN com k=4...\n",
      "F1-score para k=4 (não escalado): 0.28\n",
      "F1-score para k=4 (escalado): 0.91\n",
      "\n",
      "Treinando kNN com k=5...\n",
      "F1-score para k=5 (não escalado): 0.27\n",
      "F1-score para k=5 (escalado): 0.92\n",
      "\n",
      "Treinando kNN com k=6...\n",
      "F1-score para k=6 (não escalado): 0.11\n",
      "F1-score para k=6 (escalado): 0.90\n",
      "\n",
      "Treinando kNN com k=7...\n",
      "F1-score para k=7 (não escalado): 0.11\n",
      "F1-score para k=7 (escalado): 0.92\n",
      "\n",
      "Treinando kNN com k=8...\n",
      "F1-score para k=8 (não escalado): 0.07\n",
      "F1-score para k=8 (escalado): 0.90\n",
      "\n",
      "Treinando kNN com k=9...\n",
      "F1-score para k=9 (não escalado): 0.08\n",
      "F1-score para k=9 (escalado): 0.92\n",
      "\n",
      "Treinando kNN com k=10...\n",
      "F1-score para k=10 (não escalado): 0.00\n",
      "F1-score para k=10 (escalado): 0.88\n"
     ]
    }
   ],
   "source": [
    "for k in range(1, 11):\n",
    "    print(f'\\nTreinando kNN com k={k}...')\n",
    "    \n",
    "    # Treinando o modelo com dados não escalados\n",
    "    knn = KNeighborsClassifier(n_neighbors=k)\n",
    "    knn.fit(X_train, y_train)\n",
    "    y_pred = knn.predict(X_test)\n",
    "    \n",
    "    # Avaliando a qualidade do modelo\n",
    "    f1 = f1_score(y_test, y_pred)\n",
    "    print(f'F1-score para k={k} (não escalado): {f1:.2f}')\n",
    "    \n",
    "    # Treinando o modelo com dados escalados\n",
    "    knn.fit(X_train_scaled, y_train)\n",
    "    y_pred_scaled = knn.predict(X_test_scaled)\n",
    "    \n",
    "    # Avaliando a qualidade do modelo com dados escalados\n",
    "    f1_scaled = f1_score(y_test, y_pred_scaled)\n",
    "    print(f'F1-score para k={k} (escalado): {f1_scaled:.2f}')"
   ]
  },
  {
   "cell_type": "markdown",
   "metadata": {},
   "source": [
    "Aqui, concluímos nossos testes. O modelo Dummy sofreu para fazer as predições, não importando a probabilidade estabelecida, e atingiu, no máximo, um f1 de 0.20. O modelo KNN também apresentou resultados de f1 bem fracos quando o teste foi feito sem escalonamento. Porém, com as features devidamente escaladas, o f1 score estourou. Com k=1, atingimos 0.97, o que é éxcelente. podemos seguir com a Regressão Linear."
   ]
  },
  {
   "cell_type": "markdown",
   "metadata": {},
   "source": [
    "# Tarefa 3. Regressão (com Regressão Linear)"
   ]
  },
  {
   "cell_type": "markdown",
   "metadata": {},
   "source": [
    "Com os pagamentos de seguro como objetivo, avalie qual seria o REQM para um modelo de Regressão Linear."
   ]
  },
  {
   "cell_type": "markdown",
   "metadata": {},
   "source": [
    "Construa sua própria implementação de Regressão Linear. Para isso, lembre-se de como a solução da tarefa de regressão linear é formulada em termos de Álgebra linear. Verifique o REQM para os dados originais e os escalados. Você pode ver alguma diferença no REQM entre esses dois casos?\n",
    "\n",
    "Vamos denotar\n",
    "- $X$ — matriz de características, cada linha é um caso, cada coluna é uma característica, a primeira coluna consiste em unidades\n",
    "- $y$ — objetivo (um vetor)\n",
    "- $\\hat{y}$ — objetivo estimado (um vetor)- $w$ — vetor de peso\n",
    "\n",
    "A tarefa de regressão linear na linguagem de matrizes pode ser formulada como\n",
    "$$\n",
    "y = Xw\n",
    "$$\n",
    "\n",
    "O objetivo do treinamento, então, é encontrar os $w$ que minimizaria a distância L2 (EQM) entre $Xw$ e $y$:\n",
    "\n",
    "$$\n",
    "\\min_w d_2(Xw, y) \\quad \\text{or} \\quad \\min_w \\text{MSE}(Xw, y)\n",
    "$$\n",
    "\n",
    "Parece que há uma solução analítica para a questão acima:\n",
    "\n",
    "$$\n",
    "w = (X^T X)^{-1} X^T y\n",
    "$$\n",
    "\n",
    "A fórmula acima pode ser usada para encontrar os pesos $w$ e o último pode ser usado para calcular valores preditos\n",
    "\n",
    "$$\n",
    "\\hat{y} = X_{val}w\n",
    "$$"
   ]
  },
  {
   "cell_type": "markdown",
   "metadata": {},
   "source": [
    "Divida todos os dados na proporção 70:30 para as partes de treinamento/validação. Use a métrica REQM para a avaliação do modelo."
   ]
  },
  {
   "cell_type": "code",
   "execution_count": 32,
   "metadata": {},
   "outputs": [],
   "source": [
    "class MyLinearRegression:\n",
    "    \n",
    "    def __init__(self):\n",
    "        \n",
    "        self.weights = None\n",
    "    \n",
    "    def fit(self, X, y):\n",
    "        \n",
    "        # somando as unidades\n",
    "        X2 = np.append(np.ones([len(X), 1]), X, axis=1)\n",
    "        self.weights = np.linalg.inv(X2.T.dot(X2)).dot(X2.T).dot(y)\n",
    "\n",
    "    def predict(self, X):\n",
    "        \n",
    "        # somando as unidades\n",
    "        X2 = np.append(np.ones([len(X), 1]), X, axis=1)\n",
    "        y_pred = X2.dot(self.weights)\n",
    "        \n",
    "        return y_pred"
   ]
  },
  {
   "cell_type": "code",
   "execution_count": 33,
   "metadata": {},
   "outputs": [],
   "source": [
    "def eval_regressor(y_true, y_pred):\n",
    "    # Calculando o REQM (Raiz do Erro Quadrático Médio)\n",
    "    rmse = np.sqrt(sklearn.metrics.mean_squared_error(y_true, y_pred))\n",
    "    print(f'REQM: {rmse:.2f}')\n",
    "    \n",
    "    # Calculando o R2 (coeficiente de determinação)\n",
    "    r2_score = sklearn.metrics.r2_score(y_true, y_pred)\n",
    "    print(f'R2: {r2_score:.2f}')    "
   ]
  },
  {
   "cell_type": "code",
   "execution_count": 34,
   "metadata": {},
   "outputs": [],
   "source": [
    "#Usei a célula em branco para escalonar os dados mais uma vez. \n",
    "\n",
    "scaler = sklearn.preprocessing.MaxAbsScaler()\n",
    "\n",
    "# Aplicando o escalonamento nos dados de treino e teste\n",
    "X_train_scaled = scaler.fit_transform(X_train)\n",
    "X_test_scaled = scaler.transform(X_test)"
   ]
  },
  {
   "cell_type": "code",
   "execution_count": 35,
   "metadata": {},
   "outputs": [
    {
     "name": "stdout",
     "output_type": "stream",
     "text": [
      "[-0.94353901  0.01642727  2.32372069 -0.02059875 -0.07014128]\n",
      "REQM: 0.34\n",
      "R2: 0.43\n"
     ]
    }
   ],
   "source": [
    "X = df[['age', 'gender', 'income', 'family_members']].to_numpy()\n",
    "y = df['insurance_benefits'].to_numpy()\n",
    "\n",
    "X_train, X_test, y_train, y_test = train_test_split(X, y, test_size=0.3, random_state=12345)\n",
    "\n",
    "lr = MyLinearRegression()\n",
    "\n",
    "lr.fit(X_train_scaled, y_train)\n",
    "print(lr.weights)\n",
    "\n",
    "y_test_pred = lr.predict(X_test_scaled)\n",
    "eval_regressor(y_test, y_test_pred)"
   ]
  },
  {
   "cell_type": "code",
   "execution_count": 36,
   "metadata": {},
   "outputs": [
    {
     "name": "stdout",
     "output_type": "stream",
     "text": [
      "Pesos do modelo (não escalado): [-9.43539012e-01  3.57495491e-02  1.64272726e-02 -2.60743659e-07\n",
      " -1.16902127e-02]\n",
      "REQM: 0.34\n",
      "R2: 0.43\n"
     ]
    }
   ],
   "source": [
    "lr.fit(X_train, y_train)\n",
    "print(f'Pesos do modelo (não escalado): {lr.weights}')\n",
    "\n",
    "# Fazendo previsões com o conjunto de teste não escalonado\n",
    "y_test_pred = lr.predict(X_test)\n",
    "\n",
    "# Avaliando o modelo com a métrica REQM e R2 (dados não escalonados)\n",
    "eval_regressor(y_test, y_test_pred)"
   ]
  },
  {
   "cell_type": "markdown",
   "metadata": {},
   "source": [
    "Aqui, percebemos que o REQM e o R2 não mudaram com o escalonamento dos dados. Esse resultado já era esperado para a regressão linear. Escalonar é sempre uma boa prática. Podemos seguir com a próxima etapa do Projeto."
   ]
  },
  {
   "cell_type": "markdown",
   "metadata": {},
   "source": [
    "<div class=\"alert alert-block alert-success\">\n",
    "\n",
    "<b>Comentário: </b> <a class=\"tocSkip\"></a>\n",
    "\n",
    "Modelo de regressão linear realizado corretamente!\n",
    "</div>"
   ]
  },
  {
   "cell_type": "markdown",
   "metadata": {},
   "source": [
    "# Tarefa 4. Ofuscando dados"
   ]
  },
  {
   "cell_type": "markdown",
   "metadata": {},
   "source": [
    "É melhor ofuscar os dados multiplicando as características numéricas (lembre-se, elas podem ser vistos como a matriz $X$) por uma matriz invertível $P$. \n",
    "\n",
    "$$\n",
    "X' = X \\times P\n",
    "$$\n",
    "\n",
    "Tente fazer isso e verifique como os valores das características ficarão após a transformação. Aliás, a invertibilidade é importante aqui, portanto, certifique-se de que $P$ seja realmente invertível.\n",
    "\n",
    "Você pode querer revisar a lição 'Matrizes e Operações com Matrizes -> Multiplicação de Matrizes' para relembrar a regra de multiplicação de matrizes e sua implementação com NumPy."
   ]
  },
  {
   "cell_type": "code",
   "execution_count": 37,
   "metadata": {},
   "outputs": [],
   "source": [
    "personal_info_column_list = ['gender', 'age', 'income', 'family_members']\n",
    "df_pn = df[personal_info_column_list]"
   ]
  },
  {
   "cell_type": "code",
   "execution_count": 38,
   "metadata": {},
   "outputs": [],
   "source": [
    "X = df_pn.to_numpy()"
   ]
  },
  {
   "cell_type": "markdown",
   "metadata": {},
   "source": [
    "Gerando uma matriz $P$ aleatória."
   ]
  },
  {
   "cell_type": "code",
   "execution_count": 39,
   "metadata": {},
   "outputs": [],
   "source": [
    "rng = np.random.default_rng(seed=42)\n",
    "P = rng.random(size=(X.shape[1], X.shape[1]))"
   ]
  },
  {
   "cell_type": "markdown",
   "metadata": {},
   "source": [
    "Verificando se a matriz $P$ é invertível"
   ]
  },
  {
   "cell_type": "code",
   "execution_count": 40,
   "metadata": {},
   "outputs": [
    {
     "name": "stdout",
     "output_type": "stream",
     "text": [
      "Determinante de P: 0.24339135998015463\n"
     ]
    }
   ],
   "source": [
    "det_P = np.linalg.det(P)\n",
    "print(f'Determinante de P: {det_P}')"
   ]
  },
  {
   "cell_type": "markdown",
   "metadata": {},
   "source": [
    "Como o determinante de P é diferente de 0, a matriz é invertível, como gostaríamos."
   ]
  },
  {
   "cell_type": "code",
   "execution_count": 41,
   "metadata": {},
   "outputs": [],
   "source": [
    "X_prime = X.dot(P)"
   ]
  },
  {
   "cell_type": "markdown",
   "metadata": {},
   "source": [
    "Você consegue adivinhar a idade ou a renda dos clientes após a transformação?"
   ]
  },
  {
   "cell_type": "code",
   "execution_count": 42,
   "metadata": {},
   "outputs": [
    {
     "data": {
      "image/png": "[encoded data removed]",
      "text/plain": [
       "<Figure size 1000x600 with 1 Axes>"
      ]
     },
     "metadata": {},
     "output_type": "display_data"
    }
   ],
   "source": [
    "# Pra testar isso, resolvi plotar um gráfico e verificar algumas colunas\n",
    "\n",
    "plt.figure(figsize=(10, 6))\n",
    "\n",
    "plt.scatter(X_prime[:, 0], X_prime[:, 1], alpha=0.5)\n",
    "plt.title('Distribuição das variáveis transformadas (X\\')')\n",
    "plt.xlabel('Feature 1 (transformada)')\n",
    "plt.ylabel('Feature 2 (transformada)')\n",
    "plt.show()"
   ]
  },
  {
   "cell_type": "markdown",
   "metadata": {},
   "source": [
    "O gráfico mostra que ainda existe uma linearidade e uma correlação entre as duas features testadas, mas, sem saber do que se tratam, eu entendo que a proteção foi eficaz, porque eu não saberia dizer a que se referem esses dados."
   ]
  },
  {
   "cell_type": "markdown",
   "metadata": {},
   "source": [
    "Você pode recuperar os dados originais de $X′$ se souber $P$? Tente verificar isso com cálculos movendo $P$ do lado direito da fórmula acima para o esquerdo. As regras da multiplicação de matrizes são realmente úteis aqui"
   ]
  },
  {
   "cell_type": "code",
   "execution_count": 43,
   "metadata": {},
   "outputs": [
    {
     "name": "stdout",
     "output_type": "stream",
     "text": [
      "Os dados recuperados são iguais aos dados originais? True\n"
     ]
    }
   ],
   "source": [
    "P_inv = np.linalg.inv(P)\n",
    "\n",
    "# Recuperando X a partir de X' = X * P\n",
    "X_recovered = X_prime.dot(P_inv)\n",
    "\n",
    "# Verificando se os dados recuperados são iguais aos originais\n",
    "recovered_same_as_original = np.allclose(X, X_recovered)\n",
    "\n",
    "print(f\"Os dados recuperados são iguais aos dados originais? {recovered_same_as_original}\")"
   ]
  },
  {
   "cell_type": "markdown",
   "metadata": {},
   "source": [
    "Ótimo, esse valor true indica que podemos recuperar os dados originais se tivermos P. Dessa forma, nenhuma informação foi perdida no processo de ofuscar os dados! Proteger, mas sem destruir. Era isso que queríamos!"
   ]
  },
  {
   "cell_type": "markdown",
   "metadata": {},
   "source": [
    "Imprima todos os três casos para alguns clientes- Os dados originais\n",
    "- O transformado\n",
    "- O invertido (recuperado)"
   ]
  },
  {
   "cell_type": "code",
   "execution_count": 44,
   "metadata": {},
   "outputs": [
    {
     "name": "stdout",
     "output_type": "stream",
     "text": [
      "Dados originais (X):\n",
      "[[1.00e+00 4.10e+01 4.96e+04 1.00e+00]\n",
      " [0.00e+00 4.60e+01 3.80e+04 1.00e+00]\n",
      " [0.00e+00 2.90e+01 2.10e+04 0.00e+00]\n",
      " [0.00e+00 2.10e+01 4.17e+04 2.00e+00]\n",
      " [1.00e+00 2.80e+01 2.61e+04 0.00e+00]]\n",
      "\n",
      "Dados transformados (X'):\n",
      "[[ 6359.71527314 22380.40467609 18424.09074184 46000.69669016]\n",
      " [ 4873.29406479 17160.36702982 14125.78076133 35253.45577301]\n",
      " [ 2693.11742928  9486.397744    7808.83156024 19484.86063067]\n",
      " [ 5345.60393712 18803.22720286 15479.14837264 38663.06186284]\n",
      " [ 3347.17673462 11782.82928336  9699.99894205 24211.27337753]]\n",
      "\n",
      "Dados recuperados (X' * P^-1):\n",
      "[[ 1.00000000e+00  4.10000000e+01  4.96000000e+04  1.00000000e+00]\n",
      " [-4.47363596e-12  4.60000000e+01  3.80000000e+04  1.00000000e+00]\n",
      " [-2.51586878e-12  2.90000000e+01  2.10000000e+04  9.52452315e-13]\n",
      " [-4.84498208e-12  2.10000000e+01  4.17000000e+04  2.00000000e+00]\n",
      " [ 1.00000000e+00  2.80000000e+01  2.61000000e+04 -1.01990740e-13]]\n"
     ]
    }
   ],
   "source": [
    "\n",
    "print(\"Dados originais (X):\")\n",
    "print(X[:5])  # Mostrando as primeiras 5 linhas dos dados originais\n",
    "\n",
    "print(\"\\nDados transformados (X'):\")\n",
    "print(X_prime[:5])  # Mostrando as primeiras 5 linhas dos dados transformados\n",
    "\n",
    "print(\"\\nDados recuperados (X' * P^-1):\")\n",
    "print(X_recovered[:5])  # Mostrando as primeiras 5 linhas dos dados recuperados"
   ]
  },
  {
   "cell_type": "markdown",
   "metadata": {},
   "source": [
    "Você provavelmente pode ver que alguns valores não são exatamente iguais aos dos dados originais. Qual pode ser a razão disso?"
   ]
  },
  {
   "cell_type": "markdown",
   "metadata": {},
   "source": [
    "Isso é esperado e acontece por pequenos erros/diferenças no arredondamento dos cálculos. Porém, temos os dados recuperados com preisão suficiente. Essas diferenças são insignificantes!"
   ]
  },
  {
   "cell_type": "markdown",
   "metadata": {},
   "source": [
    "<div class=\"alert alert-block alert-success\">\n",
    "<b> Comentário do revisor: </b> <a class=\"tocSkip\"></a>\n",
    "\n",
    "- O modelo de RL customizado foi implementado usando operações matriciais\n",
    "- Os dados normalizados foram usados\n",
    "- As métricas `REQM` e `R2` foram calculadas \n",
    "</div>"
   ]
  },
  {
   "cell_type": "markdown",
   "metadata": {},
   "source": [
    "## Provas de que a ofuscação de dados pode funcionar com a Regressão Linear"
   ]
  },
  {
   "cell_type": "markdown",
   "metadata": {},
   "source": [
    "A tarefa de regressão foi resolvida com regressão linear neste projeto. Sua próxima tarefa é provar analiticamente que o método de ofuscação fornecido não afetará a regressão linear em termos de valores preditos, ou seja, seus valores permanecerão os mesmos. Você acredita nisso? Bem, você não precisa acreditar, você deve provar isso!"
   ]
  },
  {
   "cell_type": "markdown",
   "metadata": {},
   "source": [
    "Assim, os dados são ofuscados e há $X \\ P$ em vez de apenas X agora. Consequentemente, existem outros pesos $w_P$ como\n",
    "$$\n",
    "w = (X^T X)^{-1} X^T y \\quad \\Rightarrow \\quad w_P = [(XP)^T XP]^{-1} (XP)^T y\n",
    "$$\n",
    "\n",
    "Como  $w$ e $w_P$ seriam ligados se você simplificasse a fórmula para $w_P$ acima? \n",
    "\n",
    "Quais seriam os valores previstos com $w_P$? \n",
    "\n",
    "O que isso significa para a qualidade da regressão linear se você medir com REQM?\n",
    "\n",
    "Verifique o Apêndice B Propriedades das Matrizes no final do caderno. Existem fórmulas úteis lá!\n",
    "\n",
    "Nenhum código é necessário nesta seção, apenas explicação analítica!"
   ]
  },
  {
   "cell_type": "markdown",
   "metadata": {},
   "source": [
    "**Resposta**"
   ]
  },
  {
   "cell_type": "markdown",
   "metadata": {},
   "source": [
    "Como w e wp seriam ligados se você simplificasse a fórmula para wp acima?\n",
    "\n",
    "$$\n",
    "\\begin{align}\n",
    "w_P &= [(XP)^T XP]^{-1} (XP)^T y \\\\\n",
    "&= [X^TP^T XP]^{-1} (XP)^T y \\\\\n",
    "&= [P (X^TP^T X)]^{-1} (XP)^T y \\\\\n",
    "&= P^{-1} [X^TP^T X]^{-1} (XP)^T y \\\\\n",
    "&= P^{-1} (P^T)^{-1} [X^T X]^{-1} (XP)^T y \\\\\n",
    "&= P^{-1} (P^T)^{-1} [X^T X]^{-1} X^T P^T y \\\\\n",
    "&= P^{-1} [X^T X]^{-1} X^T y\n",
    "\\end{align}\n",
    "$$"
   ]
  },
  {
   "cell_type": "markdown",
   "metadata": {},
   "source": [
    "Derivando a função acima temos que:\n",
    "$$\n",
    "\\begin{align}\n",
    "w_P &= P^{-1} w \\\\\n",
    "w_P P &= P P^{-1} w \\\\\n",
    "w_P P &= w\n",
    "\\end{align}\n",
    "$$\n"
   ]
  },
  {
   "cell_type": "markdown",
   "metadata": {},
   "source": [
    "Quais seriam os valores previstos com  𝑤𝑃?\n",
    "\n",
    "$$\n",
    "\\hat{y} = X w \\\\\n",
    "\\hat{y} = X w_P P \\\\\n",
    "$$"
   ]
  },
  {
   "cell_type": "markdown",
   "metadata": {},
   "source": [
    "O que isso significa para a qualidade da regressão linear se você medir com REQM?\n",
    "\n",
    "Com as fórmulas nas questões 1 e 2, mostramos que os dados previstos, comparados com a ofuscação e os dados originais, não se alteram. Isso é um indicativo claro de que o desempenho do modelo, que podemos medir com RMSE e R2, nãoi muda. Assim, esse ofuscamento não significa nada para as métricas. "
   ]
  },
  {
   "cell_type": "markdown",
   "metadata": {},
   "source": [
    "**Prova analítica**"
   ]
  },
  {
   "cell_type": "markdown",
   "metadata": {},
   "source": []
  },
  {
   "cell_type": "markdown",
   "metadata": {},
   "source": [
    "### Prova Analítica\n",
    "\n",
    "#### Passo 1: Encontrando os pesos \\( w_P \\) para os dados ofuscados\n",
    "\n",
    "Começamos com a fórmula para calcular os pesos \\( w \\) na regressão linear usando os dados originais \\( X \\) e o vetor de objetivos \\( y \\):\n",
    "\n",
    "$$\n",
    "w = (X^T X)^{-1} X^T y\n",
    "$$\n",
    "\n",
    "Quando os dados são ofuscados por uma matriz invertível \\( P \\), os dados transformados são \\( X' = X \\times P \\). Então, a fórmula para os pesos \\( w_P \\) dos dados ofuscados é:\n",
    "\n",
    "$$\n",
    "w_P = [(XP)^T (XP)]^{-1} (XP)^T y\n",
    "$$\n",
    "\n",
    "Usando as propriedades das transpostas de matrizes, podemos reescrever isso como:\n",
    "\n",
    "$$\n",
    "w_P = [P^T X^T X P]^{-1} P^T X^T y\n",
    "$$\n",
    "\n",
    "#### Passo 2: Simplificando a fórmula para \\( w_P \\)\n",
    "\n",
    "Vamos simplificar a fórmula para \\( w_P \\) usando a propriedade da inversa de matrizes:\n",
    "\n",
    "$$\n",
    "(P^T A P)^{-1} = P^{-1} A^{-1} (P^T)^{-1}\n",
    "$$\n",
    "\n",
    "Aplicando isso à nossa fórmula:\n",
    "\n",
    "$$\n",
    "w_P = [P^T (X^T X) P]^{-1} P^T X^T y\n",
    "$$\n",
    "$$\n",
    "w_P = P^{-1} (X^T X)^{-1} (P^T)^{-1} P^T X^T y\n",
    "$$\n",
    "\n",
    "Observando que \\( (P^T)^{-1} P^T = I \\), onde \\( I \\) é a matriz identidade, obtemos:\n",
    "\n",
    "$$\n",
    "w_P = P^{-1} (X^T X)^{-1} X^T y\n",
    "$$\n",
    "\n",
    "Portanto, podemos ver que:\n",
    "\n",
    "$$\n",
    "w_P = P^{-1} w\n",
    "$$\n",
    "\n",
    "#### Passo 3: Valores preditos com \\( w_P \\)\n",
    "\n",
    "Os valores preditos \\( \\hat{y}_P \\) usando os pesos \\( w_P \\) são dados por:\n",
    "\n",
    "$$\n",
    "\\hat{y}_P = X P w_P\n",
    "$$\n",
    "\n",
    "Substituindo \\( w_P \\) pela expressão simplificada que encontramos:\n",
    "\n",
    "$$\n",
    "\\hat{y}_P = X P (P^{-1} w)\n",
    "$$\n",
    "$$\n",
    "\\hat{y}_P = X (P P^{-1}) w\n",
    "$$\n",
    "$$\n",
    "\\hat{y}_P = X I w\n",
    "$$\n",
    "$$\n",
    "\\hat{y}_P = X w\n",
    "$$\n",
    "\n",
    "Portanto, os valores preditos com \\( w_P \\) são os mesmos que os valores preditos com \\( w \\):\n",
    "\n",
    "$$\n",
    "\\hat{y}_P = \\hat{y}\n",
    "$$\n"
   ]
  },
  {
   "cell_type": "markdown",
   "metadata": {},
   "source": [
    "## Teste de regressão linear com ofuscação de dados"
   ]
  },
  {
   "cell_type": "markdown",
   "metadata": {},
   "source": [
    "Agora, vamos provar que a Regressão Linear pode funcionar computacionalmente com a transformação de ofuscação escolhida.\n",
    "Crie um procedimento ou uma classe que execute a Regressão Linear opcionalmente com a ofuscação. Você pode usar uma implementação pronta de Regressão Linear do scikit-learn ou sua própria.\n",
    "\n",
    "Execute a Regressão Linear para os dados originais e os ofuscados, compare os valores previstos e os valores da métrica $R^2$ do REQM. Há alguma diferença?"
   ]
  },
  {
   "cell_type": "markdown",
   "metadata": {},
   "source": [
    "**Procedimento**\n",
    "\n",
    "- Crie uma matriz quadrada $P$ de números aleatórios.\n",
    "- Verifique se é invertível. Caso contrário, repita o primeiro ponto até obtermos uma matriz invertível.\n",
    "- <! seu comentário aqui!>\n",
    "- Use $XP$ como a nova matriz de características"
   ]
  },
  {
   "cell_type": "code",
   "execution_count": 45,
   "metadata": {},
   "outputs": [],
   "source": [
    "# Criamos uma função que gera uma matriz e garante que ela seja inversível, com um while no final.\n",
    "def generate_invertible_matrix(X):\n",
    "    rng = np.random.default_rng(seed=42)\n",
    "    P = rng.random(size=(X.shape[1], X.shape[1]))\n",
    "    \n",
    "    while np.linalg.det(P) == 0:\n",
    "        P = rng.random(size=(X.shape[1], X.shape[1]))  # Gerar novamente se o determinante for 0\n",
    "    return P"
   ]
  },
  {
   "cell_type": "code",
   "execution_count": 46,
   "metadata": {},
   "outputs": [],
   "source": [
    "#função que ofusca os dados\n",
    "def obfuscate_data(X, P):\n",
    "    return X.dot(P)"
   ]
  },
  {
   "cell_type": "code",
   "execution_count": 47,
   "metadata": {},
   "outputs": [],
   "source": [
    "#Criando função que treina e avalia as métricas pedidas para o modelo\n",
    "def evaluate_regression(X_train, X_test, y_train, y_test, P=None):\n",
    "    # Se P não for fornecido, use os dados originais\n",
    "    if P is not None:\n",
    "        X_train = obfuscate_data(X_train, P)\n",
    "        X_test = obfuscate_data(X_test, P)\n",
    "    \n",
    "    # Treinando o modelo de regressão linear\n",
    "    model = LinearRegression()\n",
    "    model.fit(X_train, y_train)\n",
    "    \n",
    "    # Previsões\n",
    "    y_pred = model.predict(X_test)\n",
    "    \n",
    "    # Avaliando a qualidade do modelo\n",
    "    rmse = np.sqrt(mean_squared_error(y_test, y_pred))\n",
    "    r2 = r2_score(y_test, y_pred)\n",
    "    \n",
    "    return y_pred, rmse, r2"
   ]
  },
  {
   "cell_type": "code",
   "execution_count": 48,
   "metadata": {},
   "outputs": [],
   "source": [
    "#Geramos a matriz e avaliamos com os dois tipos diferentes de dados\n",
    "P = generate_invertible_matrix(X)\n",
    "\n",
    "# Avaliar com dados originais\n",
    "y_pred_orig, rmse_orig, r2_orig = evaluate_regression(X_train, X_test, y_train, y_test)\n",
    "\n",
    "# Avaliar com dados ofuscados (usando a matriz P)\n",
    "y_pred_obf, rmse_obf, r2_obf = evaluate_regression(X_train, X_test, y_train, y_test, P)"
   ]
  },
  {
   "cell_type": "code",
   "execution_count": 49,
   "metadata": {},
   "outputs": [
    {
     "name": "stdout",
     "output_type": "stream",
     "text": [
      "Resultados com dados originais:\n",
      "REQM (RMSE): 0.34\n",
      "R2: 0.43\n",
      "\n",
      "Resultados com dados ofuscados:\n",
      "REQM (RMSE): 0.34\n",
      "R2: 0.43\n"
     ]
    }
   ],
   "source": [
    "print(\"Resultados com dados originais:\")\n",
    "print(f\"REQM (RMSE): {rmse_orig:.2f}\")\n",
    "print(f\"R2: {r2_orig:.2f}\")\n",
    "\n",
    "print(\"\\nResultados com dados ofuscados:\")\n",
    "print(f\"REQM (RMSE): {rmse_obf:.2f}\")\n",
    "print(f\"R2: {r2_obf:.2f}\")"
   ]
  },
  {
   "cell_type": "markdown",
   "metadata": {},
   "source": [
    "Aqui, geramos as matrizes necessárias, treinamos o modelo e verificamos as métricas pedidas. Como esperado, os valores são iguais aos alcançados com a a primeira regressão linear. Além disso, eles não mudam no teste com os dados originais e com os dados ofuscados, o que era exatamente o que queríamos provar. Bom... agora, está provado!"
   ]
  },
  {
   "cell_type": "markdown",
   "metadata": {},
   "source": [
    "# Conclusões"
   ]
  },
  {
   "cell_type": "markdown",
   "metadata": {},
   "source": [
    "Finalizamos aqui mais um projeto do curso. primeiro, verificamos os dados e garantimos que eles estavam limpos e prontos para trabalhar. Nessa etapa, tudo o que fizemos foi trocar o tipo de dados de uma das colunas, mas todo o dataset estava em excelente estado.\n",
    "\n",
    "N tarefa 1, nos foi pedido para encontrar clientes similares a um determinado tipo. Fizemos isso com uma função para encontrar vizinhos próximos. Testamos e percebemos diferenças importantes entre as distâncias euclidiana e Manhattan, como, por exemplo, o impacto que a escalonabilidade dos dados tem sobre a função, respondendo as perguntas da etapa.\n",
    "\n",
    "Na tarefa 2, tentamos prever se o cliente receberia ou não pagamento do seguro. Como pedido na tarefa, verificamos que, com os dados escalados, um knn funcionou myuito melhor do que o modelo dummy. Atingimos f1 score de 0.97. Na tarefa 3, preparamos um modelo de regressão linear que atingiu valores razoáveis.\n",
    "\n",
    "Por fim, realizamos a ofuscação dos dados. Garantimos que o desempenho da regressão linear não caísse devido à adição dessa camada de proteção "
   ]
  },
  {
   "cell_type": "markdown",
   "metadata": {},
   "source": [
    "# Checklist"
   ]
  },
  {
   "cell_type": "markdown",
   "metadata": {},
   "source": [
    "Digite 'x' para verificar. Em seguida, pressione Shift + Enter."
   ]
  },
  {
   "cell_type": "markdown",
   "metadata": {},
   "source": [
    "- [x]  O Jupyter Notebook está aberto.\n",
    "- [ x]  O código está livre de erros\n",
    "- [ x]  As células são organizadas em ordem de lógica e execução\n",
    "- [x ]  A tarefa 1 foi executada\n",
    "    - [x ]  Existe o procedimento que pode retornar k clientes semelhantes a um determinado cliente\n",
    "    - [x ]  O procedimento é testado para todas as quatro combinações propostas\n",
    "    - [ x]  As perguntas sobre a escala/distâncias são respondidas\n",
    "- [ x]  A tarefa 2 foi executada\n",
    "    - [ x]  O modelo de classificação aleatória é construído e testado para todos os níveis de probabilidade\n",
    "    - [x ]  O modelo de classificação kNN é construído e testado tanto para os dados originais quanto para os escalados, a métrica F1 é calculada. \n",
    "    - [x ]  A tarefa 3 foi executada\n",
    "    - [ x]  A solução de regressão linear é implementada com operações matriciais.\n",
    "    - [ x]  O REQM é calculado para a solução implementada.\n",
    "- [ x]  A tarefa 4 foi executada\n",
    "    - [ x]  Os dados são ofuscados com uma matriz P aleatória e invertível\n",
    "    - [ x]  Os dados ofuscados são recuperados, alguns exemplos são impressos    - [x ]  A prova analítica de que a transformação não afeta o REQM é fornecida\n",
    "    - [x ]  A prova computacional de que a transformação não afeta o REQM é fornecida- [x ]  As conclusões foram feitas"
   ]
  },
  {
   "cell_type": "markdown",
   "metadata": {},
   "source": [
    "# Apêndices\n",
    "\n",
    "## Apêndice A: Escrevendo Fórmulas em Notebooks Jupyter"
   ]
  },
  {
   "cell_type": "markdown",
   "metadata": {},
   "source": [
    "Você pode escrever fórmulas em seu Jupyter Notebook em uma linguagem de marcação de texto fornecida por um sistema de publicação de alta qualidade chamado $\\LaTeX$ (pronuncia-se \"Lah-tech\"), e elas se parecerão com fórmulas em livros didáticos.\n",
    "Para colocar uma fórmula em um texto, coloque o cifrão ($) antes e depois do texto da fórmula, por exemplo $\\frac{1}{2} \\times \\frac{3}{2} = \\frac{3}{4}$ or $y = x^2, x \\ge 1$.\n",
    "\n",
    "Se uma fórmula deve estar em seu próprio parágrafo, coloque o cifrão duplo ($$) antes e depois do texto da fórmula, por exemplo\n",
    "\n",
    "$$\n",
    "\\bar{x} = \\frac{1}{n}\\sum_{i=1}^{n} x_i.\n",
    "$$\n",
    "\n",
    "A linguagem de marcação do [LaTeX](https://en.wikipedia.org/wiki/LaTeX) é muito popular entre as pessoas que usam fórmulas em seus artigos, livros e textos. Pode ser complexo, mas o básico é fácil. Confira esta [folha de dicas](http://tug.ctan.org/info/undergradmath/undergradmath.pdf) de duas páginas  para aprender a compor as fórmulas mais comuns."
   ]
  },
  {
   "cell_type": "markdown",
   "metadata": {},
   "source": [
    "## Apêndice B: Propriedades das Matrizes"
   ]
  },
  {
   "cell_type": "markdown",
   "metadata": {},
   "source": [
    "Matrizes têm muitas propriedades em Álgebra Linear. Algumas delas estão listadas aqui, o que pode ajudar na prova analítica deste projeto."
   ]
  },
  {
   "cell_type": "markdown",
   "metadata": {},
   "source": [
    "<table>\n",
    "<tr>\n",
    "<td>Distributividade</td><td>$A(B+C)=AB+AC$</td>\n",
    "</tr>\n",
    "<tr>\n",
    "<td>Não-comutatividade</td><td>$AB \\neq BA$</td>\n",
    "</tr>\n",
    "<tr>\n",
    "<td>Propriedade associativa da multiplicação</td><td>$(AB)C = A(BC)$</td>\n",
    "</tr>\n",
    "<tr>\n",
    "<td>Propriedade de identidade multiplicativa</td><td>$IA = AI = A$</td>\n",
    "</tr>\n",
    "<tr>\n",
    "<td></td><td>$A^{-1}A = AA^{-1} = I$\n",
    "</td>\n",
    "</tr>    \n",
    "<tr>\n",
    "<td></td><td>$(AB)^{-1} = B^{-1}A^{-1}$</td>\n",
    "</tr>    \n",
    "<tr>\n",
    "<td>Reversividade da transposição de um produto de matrizes,</td><td>$(AB)^T = B^TA^T$</td>\n",
    "</tr>    \n",
    "</table>"
   ]
  },
  {
   "cell_type": "code",
   "execution_count": null,
   "metadata": {},
   "outputs": [],
   "source": []
  }
 ],
 "metadata": {
  "ExecuteTimeLog": [
   {
    "duration": 2357,
    "start_time": "2025-01-27T13:58:06.612Z"
   },
   {
    "duration": 2747,
    "start_time": "2025-01-27T13:58:08.971Z"
   },
   {
    "duration": 11,
    "start_time": "2025-01-27T13:58:11.720Z"
   },
   {
    "duration": 4,
    "start_time": "2025-01-27T13:58:38.145Z"
   },
   {
    "duration": 11,
    "start_time": "2025-01-27T13:58:40.279Z"
   },
   {
    "duration": 10,
    "start_time": "2025-01-27T13:59:10.835Z"
   },
   {
    "duration": 5,
    "start_time": "2025-01-27T14:03:21.056Z"
   },
   {
    "duration": 4,
    "start_time": "2025-01-27T14:03:45.184Z"
   },
   {
    "duration": 3587,
    "start_time": "2025-01-27T14:14:56.065Z"
   },
   {
    "duration": 1968,
    "start_time": "2025-01-27T14:20:21.453Z"
   },
   {
    "duration": 914,
    "start_time": "2025-01-27T14:20:27.505Z"
   },
   {
    "duration": 9,
    "start_time": "2025-01-27T14:20:31.001Z"
   },
   {
    "duration": 4,
    "start_time": "2025-01-27T14:20:32.697Z"
   },
   {
    "duration": 10,
    "start_time": "2025-01-27T14:20:33.692Z"
   },
   {
    "duration": 5,
    "start_time": "2025-01-27T14:27:42.505Z"
   },
   {
    "duration": 9,
    "start_time": "2025-01-27T14:49:45.804Z"
   },
   {
    "duration": 17,
    "start_time": "2025-01-27T14:51:05.927Z"
   },
   {
    "duration": 14,
    "start_time": "2025-01-27T14:51:21.512Z"
   },
   {
    "duration": 17,
    "start_time": "2025-01-27T14:51:36.902Z"
   },
   {
    "duration": 17,
    "start_time": "2025-01-27T14:52:06.643Z"
   },
   {
    "duration": 14,
    "start_time": "2025-01-27T14:52:13.462Z"
   },
   {
    "duration": 4,
    "start_time": "2025-01-27T15:31:12.610Z"
   },
   {
    "duration": 9,
    "start_time": "2025-01-27T15:31:24.468Z"
   },
   {
    "duration": 4,
    "start_time": "2025-01-27T15:31:25.004Z"
   },
   {
    "duration": 8,
    "start_time": "2025-01-27T15:31:25.186Z"
   },
   {
    "duration": 8,
    "start_time": "2025-01-27T15:31:25.361Z"
   },
   {
    "duration": 4,
    "start_time": "2025-01-27T15:31:25.540Z"
   },
   {
    "duration": 9,
    "start_time": "2025-01-27T15:31:25.730Z"
   },
   {
    "duration": 2,
    "start_time": "2025-01-27T15:31:26.166Z"
   },
   {
    "duration": 15,
    "start_time": "2025-01-27T15:31:26.682Z"
   },
   {
    "duration": 2520,
    "start_time": "2025-01-27T15:31:28.502Z"
   },
   {
    "duration": 2,
    "start_time": "2025-01-27T15:31:37.335Z"
   },
   {
    "duration": 4,
    "start_time": "2025-01-27T15:31:38.289Z"
   },
   {
    "duration": 9,
    "start_time": "2025-01-27T15:31:40.461Z"
   },
   {
    "duration": 8,
    "start_time": "2025-01-27T15:31:40.775Z"
   },
   {
    "duration": 237,
    "start_time": "2025-01-27T15:44:53.857Z"
   },
   {
    "duration": 3,
    "start_time": "2025-01-27T15:46:45.944Z"
   },
   {
    "duration": 12,
    "start_time": "2025-01-27T15:46:51.299Z"
   },
   {
    "duration": 13,
    "start_time": "2025-01-27T15:51:28.955Z"
   },
   {
    "duration": 12,
    "start_time": "2025-01-27T15:54:50.201Z"
   },
   {
    "duration": 11,
    "start_time": "2025-01-27T15:57:15.369Z"
   },
   {
    "duration": 4,
    "start_time": "2025-01-27T16:16:02.257Z"
   },
   {
    "duration": 5,
    "start_time": "2025-01-27T16:19:01.684Z"
   },
   {
    "duration": 3,
    "start_time": "2025-01-27T16:26:58.192Z"
   },
   {
    "duration": 3,
    "start_time": "2025-01-27T16:27:02.408Z"
   },
   {
    "duration": 15,
    "start_time": "2025-01-27T16:31:21.209Z"
   },
   {
    "duration": 7,
    "start_time": "2025-01-27T16:34:24.591Z"
   },
   {
    "duration": 16,
    "start_time": "2025-01-27T16:40:14.841Z"
   },
   {
    "duration": 3,
    "start_time": "2025-01-27T17:02:22.129Z"
   },
   {
    "duration": 19,
    "start_time": "2025-01-27T17:02:52.814Z"
   },
   {
    "duration": 3,
    "start_time": "2025-01-27T17:04:41.926Z"
   },
   {
    "duration": 47,
    "start_time": "2025-01-27T17:04:57.738Z"
   },
   {
    "duration": 8,
    "start_time": "2025-01-27T17:09:06.392Z"
   },
   {
    "duration": 611,
    "start_time": "2025-01-27T17:09:15.859Z"
   },
   {
    "duration": 4,
    "start_time": "2025-01-27T18:17:47.936Z"
   },
   {
    "duration": 3,
    "start_time": "2025-01-27T18:18:28.618Z"
   },
   {
    "duration": 8,
    "start_time": "2025-01-27T18:19:24.240Z"
   },
   {
    "duration": 70,
    "start_time": "2025-01-27T18:23:21.901Z"
   },
   {
    "duration": 3,
    "start_time": "2025-01-27T18:26:24.307Z"
   },
   {
    "duration": 4,
    "start_time": "2025-01-27T18:26:25.294Z"
   },
   {
    "duration": 7,
    "start_time": "2025-01-27T18:26:26.129Z"
   },
   {
    "duration": 5,
    "start_time": "2025-01-27T18:35:44.549Z"
   },
   {
    "duration": 82,
    "start_time": "2025-01-27T18:49:19.991Z"
   },
   {
    "duration": 3,
    "start_time": "2025-01-27T18:52:00.595Z"
   },
   {
    "duration": 3,
    "start_time": "2025-01-27T18:52:02.862Z"
   },
   {
    "duration": 2,
    "start_time": "2025-01-27T18:56:04.703Z"
   },
   {
    "duration": 3,
    "start_time": "2025-01-27T19:00:19.394Z"
   },
   {
    "duration": 141,
    "start_time": "2025-01-27T19:02:07.375Z"
   },
   {
    "duration": 4,
    "start_time": "2025-01-27T19:12:51.472Z"
   },
   {
    "duration": 5,
    "start_time": "2025-01-27T19:17:52.127Z"
   },
   {
    "duration": 3,
    "start_time": "2025-01-27T19:55:56.395Z"
   },
   {
    "duration": 3,
    "start_time": "2025-01-27T19:58:17.905Z"
   },
   {
    "duration": 2,
    "start_time": "2025-01-27T19:58:52.892Z"
   },
   {
    "duration": 4,
    "start_time": "2025-01-27T20:00:03.554Z"
   },
   {
    "duration": 7,
    "start_time": "2025-01-27T20:01:28.955Z"
   },
   {
    "duration": 3,
    "start_time": "2025-01-27T20:01:41.712Z"
   },
   {
    "duration": 2627,
    "start_time": "2025-01-28T12:12:10.231Z"
   },
   {
    "duration": 281,
    "start_time": "2025-01-28T12:13:44.265Z"
   },
   {
    "duration": 14,
    "start_time": "2025-01-28T12:15:57.519Z"
   },
   {
    "duration": 3919,
    "start_time": "2025-01-28T12:16:48.729Z"
   },
   {
    "duration": 4,
    "start_time": "2025-01-28T12:16:52.651Z"
   },
   {
    "duration": 14,
    "start_time": "2025-01-28T12:16:52.656Z"
   },
   {
    "duration": 3,
    "start_time": "2025-01-28T12:16:52.673Z"
   },
   {
    "duration": 11,
    "start_time": "2025-01-28T12:16:52.678Z"
   },
   {
    "duration": 9,
    "start_time": "2025-01-28T12:16:52.691Z"
   },
   {
    "duration": 5,
    "start_time": "2025-01-28T12:16:52.701Z"
   },
   {
    "duration": 9,
    "start_time": "2025-01-28T12:16:52.707Z"
   },
   {
    "duration": 1,
    "start_time": "2025-01-28T12:16:52.718Z"
   },
   {
    "duration": 50,
    "start_time": "2025-01-28T12:16:52.724Z"
   },
   {
    "duration": 2546,
    "start_time": "2025-01-28T12:16:52.776Z"
   },
   {
    "duration": 3,
    "start_time": "2025-01-28T12:16:55.324Z"
   },
   {
    "duration": 4,
    "start_time": "2025-01-28T12:16:55.329Z"
   },
   {
    "duration": 8,
    "start_time": "2025-01-28T12:16:55.335Z"
   },
   {
    "duration": 8,
    "start_time": "2025-01-28T12:16:55.345Z"
   },
   {
    "duration": 31,
    "start_time": "2025-01-28T12:16:55.355Z"
   },
   {
    "duration": 10,
    "start_time": "2025-01-28T12:16:55.388Z"
   },
   {
    "duration": 18,
    "start_time": "2025-01-28T12:16:55.399Z"
   },
   {
    "duration": 10,
    "start_time": "2025-01-28T12:16:55.418Z"
   },
   {
    "duration": 3,
    "start_time": "2025-01-28T12:16:55.430Z"
   },
   {
    "duration": 36,
    "start_time": "2025-01-28T12:16:55.435Z"
   },
   {
    "duration": 3,
    "start_time": "2025-01-28T12:16:55.473Z"
   },
   {
    "duration": 3,
    "start_time": "2025-01-28T12:16:55.477Z"
   },
   {
    "duration": 5,
    "start_time": "2025-01-28T12:16:55.482Z"
   },
   {
    "duration": 12,
    "start_time": "2025-01-28T12:16:55.489Z"
   },
   {
    "duration": 7,
    "start_time": "2025-01-28T12:16:55.502Z"
   },
   {
    "duration": 676,
    "start_time": "2025-01-28T12:16:55.510Z"
   },
   {
    "duration": 116,
    "start_time": "2025-01-28T12:16:56.191Z"
   },
   {
    "duration": 4,
    "start_time": "2025-01-28T12:16:56.309Z"
   },
   {
    "duration": 3,
    "start_time": "2025-01-28T12:16:56.314Z"
   },
   {
    "duration": 10,
    "start_time": "2025-01-28T12:16:56.319Z"
   },
   {
    "duration": 43,
    "start_time": "2025-01-28T12:16:56.330Z"
   },
   {
    "duration": 5,
    "start_time": "2025-01-28T12:16:56.376Z"
   },
   {
    "duration": 4,
    "start_time": "2025-01-28T12:16:56.382Z"
   },
   {
    "duration": 2,
    "start_time": "2025-01-28T12:16:56.388Z"
   },
   {
    "duration": 3,
    "start_time": "2025-01-28T12:16:56.392Z"
   },
   {
    "duration": 4,
    "start_time": "2025-01-28T12:16:56.470Z"
   },
   {
    "duration": 3,
    "start_time": "2025-01-28T12:16:56.475Z"
   },
   {
    "duration": 183,
    "start_time": "2025-01-28T12:16:56.480Z"
   },
   {
    "duration": 20,
    "start_time": "2025-01-28T12:16:56.665Z"
   },
   {
    "duration": 4,
    "start_time": "2025-01-28T12:16:56.688Z"
   },
   {
    "duration": 77,
    "start_time": "2025-01-28T12:16:56.694Z"
   },
   {
    "duration": 2,
    "start_time": "2025-01-28T12:16:56.774Z"
   },
   {
    "duration": 3,
    "start_time": "2025-01-28T12:16:56.779Z"
   },
   {
    "duration": 6,
    "start_time": "2025-01-28T12:16:56.785Z"
   },
   {
    "duration": 4,
    "start_time": "2025-01-28T12:16:56.793Z"
   },
   {
    "duration": 839,
    "start_time": "2025-01-28T12:19:26.368Z"
   },
   {
    "duration": 2722,
    "start_time": "2025-01-28T20:48:08.200Z"
   },
   {
    "duration": 12,
    "start_time": "2025-01-28T20:48:10.924Z"
   },
   {
    "duration": 3,
    "start_time": "2025-01-28T20:48:11.228Z"
   },
   {
    "duration": 10,
    "start_time": "2025-01-28T20:48:12.920Z"
   },
   {
    "duration": 8,
    "start_time": "2025-01-28T20:48:13.122Z"
   },
   {
    "duration": 5,
    "start_time": "2025-01-28T20:48:13.348Z"
   },
   {
    "duration": 8,
    "start_time": "2025-01-28T20:48:13.545Z"
   },
   {
    "duration": 2,
    "start_time": "2025-01-28T20:48:13.742Z"
   },
   {
    "duration": 16,
    "start_time": "2025-01-28T20:48:13.969Z"
   },
   {
    "duration": 2584,
    "start_time": "2025-01-28T20:48:14.918Z"
   },
   {
    "duration": 2,
    "start_time": "2025-01-28T20:48:17.505Z"
   },
   {
    "duration": 4,
    "start_time": "2025-01-28T20:48:17.509Z"
   },
   {
    "duration": 8,
    "start_time": "2025-01-28T20:48:17.626Z"
   },
   {
    "duration": 8,
    "start_time": "2025-01-28T20:48:17.957Z"
   },
   {
    "duration": 97,
    "start_time": "2025-01-28T20:48:18.682Z"
   },
   {
    "duration": 12,
    "start_time": "2025-01-28T20:48:19.314Z"
   },
   {
    "duration": 19,
    "start_time": "2025-01-28T20:48:19.633Z"
   },
   {
    "duration": 11,
    "start_time": "2025-01-28T20:48:19.905Z"
   },
   {
    "duration": 4,
    "start_time": "2025-01-28T20:48:23.280Z"
   },
   {
    "duration": 5,
    "start_time": "2025-01-28T20:48:23.606Z"
   },
   {
    "duration": 3,
    "start_time": "2025-01-28T20:48:24.054Z"
   },
   {
    "duration": 3,
    "start_time": "2025-01-28T20:48:32.146Z"
   },
   {
    "duration": 2,
    "start_time": "2025-01-28T20:48:40.002Z"
   },
   {
    "duration": 6,
    "start_time": "2025-01-28T20:48:40.549Z"
   },
   {
    "duration": 13,
    "start_time": "2025-01-28T20:48:45.813Z"
   },
   {
    "duration": 12,
    "start_time": "2025-01-28T20:48:52.354Z"
   },
   {
    "duration": 13,
    "start_time": "2025-01-28T20:48:59.758Z"
   },
   {
    "duration": 6,
    "start_time": "2025-01-28T20:58:24.208Z"
   }
  ],
  "kernelspec": {
   "display_name": "Python 3 (ipykernel)",
   "language": "python",
   "name": "python3"
  },
  "language_info": {
   "codemirror_mode": {
    "name": "ipython",
    "version": 3
   },
   "file_extension": ".py",
   "mimetype": "text/x-python",
   "name": "python",
   "nbconvert_exporter": "python",
   "pygments_lexer": "ipython3",
   "version": "3.9.19"
  },
  "toc": {
   "base_numbering": 1,
   "nav_menu": {},
   "number_sections": true,
   "sideBar": true,
   "skip_h1_title": true,
   "title_cell": "Índice",
   "title_sidebar": "Conteúdos ",
   "toc_cell": false,
   "toc_position": {},
   "toc_section_display": true,
   "toc_window_display": false
  }
 },
 "nbformat": 4,
 "nbformat_minor": 4
}
